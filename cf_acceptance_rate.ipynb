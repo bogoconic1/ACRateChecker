{
 "cells": [
  {
   "cell_type": "code",
   "execution_count": 29,
   "metadata": {},
   "outputs": [],
   "source": [
    "import pandas as pd\n",
    "import matplotlib\n",
    "import matplotlib.pyplot as plt\n",
    "import requests\n",
    "from pandasql import sqldf\n",
    "import json\n",
    "from collections import defaultdict"
   ]
  },
  {
   "cell_type": "markdown",
   "metadata": {},
   "source": [
    "Acceptance rate per question (in leetcode format)"
   ]
  },
  {
   "cell_type": "code",
   "execution_count": 33,
   "metadata": {},
   "outputs": [
    {
     "name": "stdout",
     "output_type": "stream",
     "text": [
      "Which Contest would you like to view?\n",
      "\n",
      "You are viewing Codeforces Global Round 17\n",
      "\n",
      "Duration after contest started ?\n",
      "\n",
      "You are viewing acceptance rate 180 seconds into the contest\n",
      "\n",
      "1610A. Anti Light's Cell Guessing\n",
      "User Accepted: 258\n",
      "User Tried: 1040\n",
      "Total Accepted: 258\n",
      "Total Submissions: 1156\n",
      "Acceptance Rate: 22.318339100346023 % \n",
      "-----------------------------------------------------------------------------------\n"
     ]
    }
   ],
   "source": [
    "print(\"Which Contest would you like to view?\")\n",
    "print()\n",
    "contest = input()\n",
    "page = \"https://codeforces.com/api/contest.status?contestId=\" + contest + \"&from=1\"\n",
    "cf_submissions_api = requests.get(page)\n",
    "submissions = cf_submissions_api.json()\n",
    "cf_dataframe = pd.json_normalize(submissions,['result'])\n",
    "\n",
    "#fetch the duration of the contest\n",
    "cf_duration_api = requests.get(\"https://codeforces.com/api/contest.list?gym=false\")\n",
    "contests = cf_duration_api.json()\n",
    "cf_duration_dataframe = pd.json_normalize(contests,['result'])\n",
    "\n",
    "contest_name = list(cf_duration_dataframe[cf_duration_dataframe[\"id\"]== 1610].name)[0]\n",
    "print(\"You are viewing \" + contest_name)\n",
    "print()\n",
    "\n",
    "selected_contest = cf_duration_dataframe.loc[cf_duration_dataframe[\"id\"] == int(contest)]\n",
    "start_time = list(selected_contest[\"startTimeSeconds\"])[0]\n",
    "duration = list(selected_contest[\"durationSeconds\"])[0]\n",
    "\n",
    "#enter time after the contest started (in seconds) to view stats\n",
    "#for example: if you want to see acceptance rate 5 minutes into the contest, key in 300\n",
    "print(\"Duration after contest started ?\")\n",
    "print()\n",
    "time_after_start = int(input())\n",
    "time_after_start = min(time_after_start,duration)\n",
    "print(\"You are viewing acceptance rate \" + str(time_after_start) + \" seconds into the contest\")\n",
    "print()\n",
    "\n",
    "end_time = list(selected_contest[\"startTimeSeconds\"])[0] + time_after_start\n",
    "byTimeMemory = cf_dataframe[[\"creationTimeSeconds\",\"contestId\",\"problem.index\",\"problem.name\",\"programmingLanguage\",\"author.members\",\"verdict\",\"timeConsumedMillis\", \"memoryConsumedBytes\"]].loc[(cf_dataframe[\"creationTimeSeconds\"] >= start_time) & (cf_dataframe[\"creationTimeSeconds\"] <= end_time)]\n",
    "byTimeMemory = byTimeMemory.rename(columns = {\"timeConsumedMillis\": \"Time\",\"problem.index\":\"problem_index\",\"problem.name\":\"problem_name\",\"author.members\":\"author_members\"})\n",
    "\n",
    "#retrieve the name and id of the problems\n",
    "problem_header = byTimeMemory[[\"problem_index\",\"problem_name\"]]\n",
    "problems = sorted(set(list(byTimeMemory[\"problem_index\"])))\n",
    "index_to_name = defaultdict()\n",
    "for index,name in problem_header.values:\n",
    "    index_to_name[index] = name\n",
    "    if len(index_to_name) == len(problems):\n",
    "        break\n",
    "    \n",
    "for pindex in problems:\n",
    "    solved_df = byTimeMemory[(byTimeMemory[\"problem_index\"] == pindex) & (byTimeMemory[\"verdict\"] == \"OK\")]\n",
    "    attempted_df = byTimeMemory[(byTimeMemory[\"problem_index\"] == pindex)]\n",
    "    user_solved = len(set([x[0][\"handle\"] for x in list(solved_df[\"author_members\"])]))\n",
    "    user_attempted = len(set([x[0][\"handle\"] for x in list(attempted_df[\"author_members\"])]))\n",
    "    total_solved = len(solved_df)\n",
    "    total_attempted = len(attempted_df)\n",
    "    acceptance_rate = ((total_solved / total_attempted) * 100)\n",
    "    print(f\"{contest}{pindex}. {index_to_name[pindex]}\")\n",
    "    print(f\"User Accepted: {user_solved}\")\n",
    "    print(f\"User Tried: {user_attempted}\")\n",
    "    print(f\"Total Accepted: {total_solved}\")\n",
    "    print(f\"Total Submissions: {total_attempted}\")\n",
    "    print(f\"Acceptance Rate: {acceptance_rate} % \")\n",
    "    print(\"-----------------------------------------------------------------------------------\")"
   ]
  }
 ],
 "metadata": {
  "interpreter": {
   "hash": "c22866e51af45ad359ba882887a9cf246bec6b2fcc035a93c40774803488f20b"
  },
  "kernelspec": {
   "display_name": "Python 3.9.7 ('base')",
   "language": "python",
   "name": "python3"
  },
  "language_info": {
   "codemirror_mode": {
    "name": "ipython",
    "version": 3
   },
   "file_extension": ".py",
   "mimetype": "text/x-python",
   "name": "python",
   "nbconvert_exporter": "python",
   "pygments_lexer": "ipython3",
   "version": "3.9.12"
  },
  "orig_nbformat": 4
 },
 "nbformat": 4,
 "nbformat_minor": 2
}
