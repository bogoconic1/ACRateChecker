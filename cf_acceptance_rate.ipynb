{
 "cells": [
  {
   "cell_type": "code",
   "execution_count": 43,
   "metadata": {},
   "outputs": [],
   "source": [
    "import pandas as pd\n",
    "import matplotlib\n",
    "import matplotlib.pyplot as plt\n",
    "import requests\n",
    "from pandasql import sqldf\n",
    "import json\n",
    "from collections import defaultdict"
   ]
  },
  {
   "cell_type": "code",
   "execution_count": 44,
   "metadata": {},
   "outputs": [
    {
     "name": "stdout",
     "output_type": "stream",
     "text": [
      "Which Contest would you like to view?\n"
     ]
    }
   ],
   "source": [
    "print(\"Which Contest would you like to view?\")\n",
    "contest = input()\n",
    "page = \"https://codeforces.com/api/contest.status?contestId=\" + contest + \"&from=1\"\n",
    "cf_submissions_api = requests.get(page)\n",
    "submissions = cf_submissions_api.json()\n",
    "cf_dataframe = pd.json_normalize(submissions,['result'])"
   ]
  },
  {
   "cell_type": "code",
   "execution_count": 45,
   "metadata": {},
   "outputs": [],
   "source": [
    "#fetch the duration of the contest\n",
    "cf_duration_api = requests.get(\"https://codeforces.com/api/contest.list?gym=false\")\n",
    "contests = cf_duration_api.json()\n",
    "cf_duration_dataframe = pd.json_normalize(contests,['result'])\n",
    "\n",
    "selected_contest = cf_duration_dataframe.loc[cf_duration_dataframe[\"id\"] == int(contest)]\n",
    "start_time = list(selected_contest[\"startTimeSeconds\"])[0]\n",
    "end_time = list(selected_contest[\"startTimeSeconds\"])[0] + list(selected_contest[\"durationSeconds\"])[0] - 1"
   ]
  },
  {
   "cell_type": "code",
   "execution_count": 46,
   "metadata": {},
   "outputs": [],
   "source": [
    "byTimeMemory = cf_dataframe[[\"creationTimeSeconds\",\"contestId\",\"problem.index\",\"problem.name\",\"programmingLanguage\",\"author.members\",\"verdict\",\"timeConsumedMillis\", \"memoryConsumedBytes\"]].loc[(cf_dataframe[\"creationTimeSeconds\"] >= start_time) & (cf_dataframe[\"creationTimeSeconds\"] <= end_time)]\n",
    "byTimeMemory = byTimeMemory.rename(columns = {\"timeConsumedMillis\": \"Time\",\"problem.index\":\"problem_index\",\"problem.name\":\"problem_name\",\"author.members\":\"author_members\"})"
   ]
  },
  {
   "cell_type": "code",
   "execution_count": 47,
   "metadata": {},
   "outputs": [],
   "source": [
    "#retrieve the name and id of the problems\n",
    "problem_header = byTimeMemory[[\"problem_index\",\"problem_name\"]]\n",
    "problems = sorted(set(list(byTimeMemory[\"problem_index\"])))\n",
    "index_to_name = defaultdict()\n",
    "for index,name in problem_header.values:\n",
    "    index_to_name[index] = name\n",
    "    if len(index_to_name) == len(problems):\n",
    "        break"
   ]
  },
  {
   "cell_type": "markdown",
   "metadata": {},
   "source": [
    "Acceptance rate per question (in leetcode format)"
   ]
  },
  {
   "cell_type": "code",
   "execution_count": 48,
   "metadata": {},
   "outputs": [
    {
     "name": "stdout",
     "output_type": "stream",
     "text": [
      "1672A. Log Chopping\n",
      "User Accepted: 7432\n",
      "User Tried: 8209\n",
      "Total Accepted: 7432\n",
      "Total Submissions: 12581\n",
      "Acceptance Rate: 59.07320562753359 % \n",
      "-----------------------------------------------------------------------------------\n",
      "1672B. I love AAAB\n",
      "User Accepted: 6768\n",
      "User Tried: 8108\n",
      "Total Accepted: 6768\n",
      "Total Submissions: 24533\n",
      "Acceptance Rate: 27.58733134961073 % \n",
      "-----------------------------------------------------------------------------------\n",
      "1672C. Unequal Array\n",
      "User Accepted: 5194\n",
      "User Tried: 6174\n",
      "Total Accepted: 5194\n",
      "Total Submissions: 11397\n",
      "Acceptance Rate: 45.57339650785294 % \n",
      "-----------------------------------------------------------------------------------\n",
      "1672D. Cyclic Rotation\n",
      "User Accepted: 1871\n",
      "User Tried: 3173\n",
      "Total Accepted: 1871\n",
      "Total Submissions: 8682\n",
      "Acceptance Rate: 21.550334024418337 % \n",
      "-----------------------------------------------------------------------------------\n",
      "1672E. notepad.exe\n",
      "User Accepted: 564\n",
      "User Tried: 1152\n",
      "Total Accepted: 564\n",
      "Total Submissions: 4714\n",
      "Acceptance Rate: 11.964361476453119 % \n",
      "-----------------------------------------------------------------------------------\n",
      "1672F1. Array Shuffling\n",
      "User Accepted: 1029\n",
      "User Tried: 2165\n",
      "Total Accepted: 1029\n",
      "Total Submissions: 4428\n",
      "Acceptance Rate: 23.238482384823847 % \n",
      "-----------------------------------------------------------------------------------\n",
      "1672F2. Checker for Array Shuffling\n",
      "User Accepted: 112\n",
      "User Tried: 392\n",
      "Total Accepted: 112\n",
      "Total Submissions: 979\n",
      "Acceptance Rate: 11.440245148110318 % \n",
      "-----------------------------------------------------------------------------------\n",
      "1672G. Cross Xor\n",
      "User Accepted: 29\n",
      "User Tried: 49\n",
      "Total Accepted: 29\n",
      "Total Submissions: 119\n",
      "Acceptance Rate: 24.369747899159663 % \n",
      "-----------------------------------------------------------------------------------\n",
      "1672H. Zigu Zagu\n",
      "User Accepted: 134\n",
      "User Tried: 236\n",
      "Total Accepted: 134\n",
      "Total Submissions: 446\n",
      "Acceptance Rate: 30.04484304932735 % \n",
      "-----------------------------------------------------------------------------------\n",
      "1672I. PermutationForces\n",
      "User Accepted: 3\n",
      "User Tried: 13\n",
      "Total Accepted: 3\n",
      "Total Submissions: 33\n",
      "Acceptance Rate: 9.090909090909092 % \n",
      "-----------------------------------------------------------------------------------\n"
     ]
    }
   ],
   "source": [
    "for pindex in problems:\n",
    "    solved_df = byTimeMemory[(byTimeMemory[\"problem_index\"] == pindex) & (byTimeMemory[\"verdict\"] == \"OK\")]\n",
    "    attempted_df = byTimeMemory[(byTimeMemory[\"problem_index\"] == pindex)]\n",
    "    user_solved = len(set([x[0][\"handle\"] for x in list(solved_df[\"author_members\"])]))\n",
    "    user_attempted = len(set([x[0][\"handle\"] for x in list(attempted_df[\"author_members\"])]))\n",
    "    total_solved = len(solved_df)\n",
    "    total_attempted = len(attempted_df)\n",
    "    acceptance_rate = ((total_solved / total_attempted) * 100)\n",
    "    print(f\"{contest}{pindex}. {index_to_name[pindex]}\")\n",
    "    print(f\"User Accepted: {user_solved}\")\n",
    "    print(f\"User Tried: {user_attempted}\")\n",
    "    print(f\"Total Accepted: {total_solved}\")\n",
    "    print(f\"Total Submissions: {total_attempted}\")\n",
    "    print(f\"Acceptance Rate: {acceptance_rate} % \")\n",
    "    print(\"-----------------------------------------------------------------------------------\")"
   ]
  }
 ],
 "metadata": {
  "interpreter": {
   "hash": "06f759a2b1b8f25d4fa9adeb0b75e7f82933f8aabc9c4934ee03be4e8194db0e"
  },
  "kernelspec": {
   "display_name": "Python 3.8.8 ('base')",
   "language": "python",
   "name": "python3"
  },
  "language_info": {
   "codemirror_mode": {
    "name": "ipython",
    "version": 3
   },
   "file_extension": ".py",
   "mimetype": "text/x-python",
   "name": "python",
   "nbconvert_exporter": "python",
   "pygments_lexer": "ipython3",
   "version": "3.8.8"
  },
  "orig_nbformat": 4
 },
 "nbformat": 4,
 "nbformat_minor": 2
}
